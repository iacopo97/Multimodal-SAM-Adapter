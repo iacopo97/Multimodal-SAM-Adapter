{
 "cells": [
  {
   "cell_type": "code",
   "execution_count": 2,
   "metadata": {},
   "outputs": [
    {
     "name": "stdout",
     "output_type": "stream",
     "text": [
      "There are 752 files in the folder.\n"
     ]
    }
   ],
   "source": [
    "import os\n",
    "\n",
    "def count_files_in_folder(folder_path):\n",
    "    return len([name for name in os.listdir(folder_path) if os.path.isfile(os.path.join(folder_path, name))])\n",
    "\n",
    "folder_path = r'C:\\Users\\iacop\\Desktop\\\\ar\\work\\FMB\\drive-download-20241030T120255Z-001\\FMB\\\\train\\Visible\\easy'\n",
    "file_count = count_files_in_folder(folder_path)\n",
    "print(f'There are {file_count} files in the folder.')"
   ]
  },
  {
   "cell_type": "code",
   "execution_count": 1,
   "metadata": {},
   "outputs": [
    {
     "name": "stdout",
     "output_type": "stream",
     "text": [
      "There are 752 files in the folder.\n"
     ]
    }
   ],
   "source": [
    "import os\n",
    "\n",
    "def count_files_in_folder(folder_path):\n",
    "    return len([name for name in os.listdir(folder_path) if os.path.isfile(os.path.join(folder_path, name))])\n",
    "\n",
    "folder_path = r'C:\\Users\\iacop\\Desktop\\ar\\work\\new_release\\MM-SAM_adapter\\datasets\\FMB\\train\\Visible\\easy'\n",
    "file_count = count_files_in_folder(folder_path)\n",
    "print(f'There are {file_count} files in the folder.')"
   ]
  },
  {
   "cell_type": "code",
   "execution_count": 3,
   "metadata": {},
   "outputs": [
    {
     "name": "stdout",
     "output_type": "stream",
     "text": [
      "There are 308 files in the folder.\n"
     ]
    }
   ],
   "source": [
    "import os\n",
    "\n",
    "def count_files_in_folder(folder_path):\n",
    "    return len([name for name in os.listdir(folder_path) if os.path.isfile(os.path.join(folder_path, name))])\n",
    "\n",
    "folder_path = r'C:\\Users\\iacop\\Desktop\\\\ar\\work\\FMB\\drive-download-20241030T120255Z-001\\FMB\\\\train\\Visible\\hard'\n",
    "file_count = count_files_in_folder(folder_path)\n",
    "print(f'There are {file_count} files in the folder.')"
   ]
  },
  {
   "cell_type": "code",
   "execution_count": 2,
   "metadata": {},
   "outputs": [
    {
     "name": "stdout",
     "output_type": "stream",
     "text": [
      "There are 308 files in the folder.\n"
     ]
    }
   ],
   "source": [
    "import os\n",
    "\n",
    "def count_files_in_folder(folder_path):\n",
    "    return len([name for name in os.listdir(folder_path) if os.path.isfile(os.path.join(folder_path, name))])\n",
    "\n",
    "folder_path = r'C:\\Users\\iacop\\Desktop\\ar\\work\\new_release\\MM-SAM_adapter\\datasets\\FMB\\train\\Visible\\hard'\n",
    "file_count = count_files_in_folder(folder_path)\n",
    "print(f'There are {file_count} files in the folder.')"
   ]
  },
  {
   "cell_type": "code",
   "execution_count": 6,
   "metadata": {},
   "outputs": [
    {
     "name": "stdout",
     "output_type": "stream",
     "text": [
      "There are 832 files in the folder.\n"
     ]
    }
   ],
   "source": [
    "import os\n",
    "\n",
    "def count_files_in_folder(folder_path):\n",
    "    return len([name for name in os.listdir(folder_path) if os.path.isfile(os.path.join(folder_path, name))])\n",
    "\n",
    "folder_path = r'C:\\Users\\iacop\\Desktop\\ar\\work\\FMB\\backup\\easy'\n",
    "file_count = count_files_in_folder(folder_path)\n",
    "print(f'There are {file_count} files in the folder.')"
   ]
  },
  {
   "cell_type": "code",
   "execution_count": 7,
   "metadata": {},
   "outputs": [
    {
     "name": "stdout",
     "output_type": "stream",
     "text": [
      "There are no common files in both folders.\n"
     ]
    }
   ],
   "source": [
    "def get_files_in_folder(folder_path):\n",
    "    return set([name for name in os.listdir(folder_path) if os.path.isfile(os.path.join(folder_path, name))])\n",
    "\n",
    "folder_path_1 = r'C:\\Users\\iacop\\Desktop\\\\ar\\work\\FMB\\drive-download-20241030T120255Z-001\\FMB\\\\train\\Visible\\easy'\n",
    "folder_path_2 = r'C:\\Users\\iacop\\Desktop\\ar\\work\\FMB\\drive-download-20241030T120255Z-001\\FMB\\val\\Visible\\easy'\n",
    "\n",
    "files_in_folder_1 = get_files_in_folder(folder_path_1)\n",
    "files_in_folder_2 = get_files_in_folder(folder_path_2)\n",
    "\n",
    "common_files = files_in_folder_1.intersection(files_in_folder_2)\n",
    "\n",
    "if common_files:\n",
    "    print(f'There are {len(common_files)} common files in both folders.')\n",
    "else:\n",
    "    print('There are no common files in both folders.')"
   ]
  },
  {
   "cell_type": "code",
   "execution_count": 3,
   "metadata": {},
   "outputs": [
    {
     "name": "stdout",
     "output_type": "stream",
     "text": [
      "There are no common files in both folders.\n"
     ]
    }
   ],
   "source": [
    "def get_files_in_folder(folder_path):\n",
    "    return set([name for name in os.listdir(folder_path) if os.path.isfile(os.path.join(folder_path, name))])\n",
    "\n",
    "folder_path_1 = r'C:\\Users\\iacop\\Desktop\\ar\\work\\new_release\\MM-SAM_adapter\\datasets\\FMB\\train\\Visible\\easy'\n",
    "folder_path_2 = r'C:\\Users\\iacop\\Desktop\\ar\\work\\new_release\\MM-SAM_adapter\\datasets\\FMB\\val\\Visible\\easy'\n",
    "\n",
    "files_in_folder_1 = get_files_in_folder(folder_path_1)\n",
    "files_in_folder_2 = get_files_in_folder(folder_path_2)\n",
    "\n",
    "common_files = files_in_folder_1.intersection(files_in_folder_2)\n",
    "\n",
    "if common_files:\n",
    "    print(f'There are {len(common_files)} common files in both folders.')\n",
    "else:\n",
    "    print('There are no common files in both folders.')"
   ]
  }
 ],
 "metadata": {
  "kernelspec": {
   "display_name": "VitAd",
   "language": "python",
   "name": "python3"
  },
  "language_info": {
   "codemirror_mode": {
    "name": "ipython",
    "version": 3
   },
   "file_extension": ".py",
   "mimetype": "text/x-python",
   "name": "python",
   "nbconvert_exporter": "python",
   "pygments_lexer": "ipython3",
   "version": "3.8.18"
  }
 },
 "nbformat": 4,
 "nbformat_minor": 2
}
